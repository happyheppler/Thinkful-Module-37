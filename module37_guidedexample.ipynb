{
 "cells": [
  {
   "cell_type": "markdown",
   "metadata": {},
   "source": [
    "# Guided Example - Stock Price Modeling\n",
    "\n",
    "Time series modeling is particularly popular in finance. It's used to model the price movement of almost any asset or commodity. Here we'll use the techniques we covered to model a currency exchange rate, specifically the value of the SP500 stock market index.\n",
    "\n",
    "The data here comes from the St. Louis Federal Reserve's database, affectionately called FRED and available [here](https://fred.stlouisfed.org). We'll use the S&P 500 data for now, using nine years of data starting Jan 1, 2008."
   ]
  },
  {
   "cell_type": "code",
   "execution_count": 1,
   "metadata": {
    "ExecuteTime": {
     "end_time": "2020-03-22T00:54:06.889687Z",
     "start_time": "2020-03-22T00:54:00.406343Z"
    }
   },
   "outputs": [],
   "source": [
    "import numpy as np\n",
    "import pandas as pd\n",
    "import scipy\n",
    "import datetime as datetime\n",
    "import datetime as dt\n",
    "import matplotlib.pyplot as plt\n",
    "from statsmodels.tsa.stattools import pacf\n",
    "from statsmodels.tsa.arima_model import ARIMA\n",
    "import math\n",
    "\n",
    "%matplotlib inline"
   ]
  },
  {
   "cell_type": "code",
   "execution_count": 2,
   "metadata": {
    "ExecuteTime": {
     "end_time": "2020-03-22T00:54:07.204150Z",
     "start_time": "2020-03-22T00:54:06.893097Z"
    }
   },
   "outputs": [],
   "source": [
    "sp_data = pd.read_csv('https://tf-assets-prod.s3.amazonaws.com/tf-curric/data-science/SP500_raw.csv')\n",
    "\n",
    "# Convert exchange rate to a number, with coersion to throw NA's if conversion not possible\n",
    "sp_data['price'] = pd.to_numeric(sp_data.SP500, errors='coerce')\n",
    "\n",
    "# Remove NA's\n",
    "sp_data.dropna(inplace=True)"
   ]
  },
  {
   "cell_type": "code",
   "execution_count": 3,
   "metadata": {
    "ExecuteTime": {
     "end_time": "2020-03-22T00:54:07.236606Z",
     "start_time": "2020-03-22T00:54:07.208906Z"
    }
   },
   "outputs": [
    {
     "data": {
      "text/html": [
       "<div>\n",
       "<style scoped>\n",
       "    .dataframe tbody tr th:only-of-type {\n",
       "        vertical-align: middle;\n",
       "    }\n",
       "\n",
       "    .dataframe tbody tr th {\n",
       "        vertical-align: top;\n",
       "    }\n",
       "\n",
       "    .dataframe thead th {\n",
       "        text-align: right;\n",
       "    }\n",
       "</style>\n",
       "<table border=\"1\" class=\"dataframe\">\n",
       "  <thead>\n",
       "    <tr style=\"text-align: right;\">\n",
       "      <th></th>\n",
       "      <th>DATE</th>\n",
       "      <th>SP500</th>\n",
       "      <th>price</th>\n",
       "    </tr>\n",
       "  </thead>\n",
       "  <tbody>\n",
       "    <tr>\n",
       "      <td>0</td>\n",
       "      <td>2008-01-02</td>\n",
       "      <td>1447.16</td>\n",
       "      <td>1447.16</td>\n",
       "    </tr>\n",
       "    <tr>\n",
       "      <td>1</td>\n",
       "      <td>2008-01-03</td>\n",
       "      <td>1447.16</td>\n",
       "      <td>1447.16</td>\n",
       "    </tr>\n",
       "    <tr>\n",
       "      <td>2</td>\n",
       "      <td>2008-01-04</td>\n",
       "      <td>1411.63</td>\n",
       "      <td>1411.63</td>\n",
       "    </tr>\n",
       "    <tr>\n",
       "      <td>3</td>\n",
       "      <td>2008-01-07</td>\n",
       "      <td>1416.18</td>\n",
       "      <td>1416.18</td>\n",
       "    </tr>\n",
       "    <tr>\n",
       "      <td>4</td>\n",
       "      <td>2008-01-08</td>\n",
       "      <td>1390.19</td>\n",
       "      <td>1390.19</td>\n",
       "    </tr>\n",
       "  </tbody>\n",
       "</table>\n",
       "</div>"
      ],
      "text/plain": [
       "         DATE    SP500    price\n",
       "0  2008-01-02  1447.16  1447.16\n",
       "1  2008-01-03  1447.16  1447.16\n",
       "2  2008-01-04  1411.63  1411.63\n",
       "3  2008-01-07  1416.18  1416.18\n",
       "4  2008-01-08  1390.19  1390.19"
      ]
     },
     "execution_count": 3,
     "metadata": {},
     "output_type": "execute_result"
    }
   ],
   "source": [
    "sp_data.head()"
   ]
  },
  {
   "cell_type": "code",
   "execution_count": 4,
   "metadata": {
    "ExecuteTime": {
     "end_time": "2020-03-22T00:54:07.555278Z",
     "start_time": "2020-03-22T00:54:07.241011Z"
    }
   },
   "outputs": [
    {
     "data": {
      "image/png": "[encoded data removed]",
      "text/plain": [
       "<Figure size 432x288 with 1 Axes>"
      ]
     },
     "metadata": {
      "needs_background": "light"
     },
     "output_type": "display_data"
    }
   ],
   "source": [
    "sp_data.plot(y='price')\n",
    "plt.title('S&P500 Time Series')\n",
    "plt.show()"
   ]
  },
  {
   "cell_type": "markdown",
   "metadata": {},
   "source": [
    "So, now we have a time series of exchange rate data. Our x-axis doesn't make much sense, though. How could we fix that?\n",
    "\n",
    "Let's use pandas to create a date based index."
   ]
  },
  {
   "cell_type": "code",
   "execution_count": 5,
   "metadata": {
    "ExecuteTime": {
     "end_time": "2020-03-22T00:54:07.837487Z",
     "start_time": "2020-03-22T00:54:07.559795Z"
    }
   },
   "outputs": [
    {
     "data": {
      "image/png": "[encoded data removed]",
      "text/plain": [
       "<Figure size 432x288 with 1 Axes>"
      ]
     },
     "metadata": {
      "needs_background": "light"
     },
     "output_type": "display_data"
    }
   ],
   "source": [
    "sp_data.index = pd.to_datetime(sp_data.DATE)\n",
    "sp_data.plot(y='price')\n",
    "plt.title('S&P500 Time Series')\n",
    "plt.show()"
   ]
  },
  {
   "cell_type": "markdown",
   "metadata": {},
   "source": [
    "That's better. Now we have a sense of the amount of time actually covered by our time series. As we discussed previously, however, we need a stationary data set. This looks as though it might have a trend to it, so let's try plotting the difference."
   ]
  },
  {
   "cell_type": "code",
   "execution_count": 6,
   "metadata": {
    "ExecuteTime": {
     "end_time": "2020-03-22T00:54:08.124916Z",
     "start_time": "2020-03-22T00:54:07.841586Z"
    }
   },
   "outputs": [
    {
     "data": {
      "image/png": "[encoded data removed]",
      "text/plain": [
       "<Figure size 432x288 with 1 Axes>"
      ]
     },
     "metadata": {
      "needs_background": "light"
     },
     "output_type": "display_data"
    }
   ],
   "source": [
    "sp_data['diff_1'] = sp_data.price - sp_data.price.shift()\n",
    "sp_data.plot(y='diff_1')\n",
    "plt.title('S&P500 Time Series')\n",
    "plt.show()"
   ]
  },
  {
   "cell_type": "markdown",
   "metadata": {},
   "source": [
    "We'll also want to investigate the PACF. Let's look at the PACF for both the initial and differenced time series."
   ]
  },
  {
   "cell_type": "code",
   "execution_count": 7,
   "metadata": {
    "ExecuteTime": {
     "end_time": "2020-03-22T00:54:08.556820Z",
     "start_time": "2020-03-22T00:54:08.135392Z"
    }
   },
   "outputs": [
    {
     "data": {
      "image/png": "[encoded data removed]",
      "text/plain": [
       "<Figure size 432x288 with 1 Axes>"
      ]
     },
     "metadata": {
      "needs_background": "light"
     },
     "output_type": "display_data"
    }
   ],
   "source": [
    "x_acf = pd.DataFrame(pacf(sp_data.price))\n",
    "x_acf.plot(kind='bar')\n",
    "plt.title('S&P500 PACF')\n",
    "plt.show()"
   ]
  },
  {
   "cell_type": "code",
   "execution_count": 8,
   "metadata": {
    "ExecuteTime": {
     "end_time": "2020-03-22T00:54:08.967936Z",
     "start_time": "2020-03-22T00:54:08.565329Z"
    }
   },
   "outputs": [
    {
     "data": {
      "image/png": "[encoded data removed]",
      "text/plain": [
       "<Figure size 432x288 with 1 Axes>"
      ]
     },
     "metadata": {
      "needs_background": "light"
     },
     "output_type": "display_data"
    }
   ],
   "source": [
    "x_acf = pd.DataFrame(pacf(sp_data.diff_1[1:]))\n",
    "x_acf.plot(kind='bar')\n",
    "plt.title('S&P500 Diff PACF')\n",
    "plt.legend(['difference'])\n",
    "plt.show()"
   ]
  },
  {
   "cell_type": "markdown",
   "metadata": {},
   "source": [
    "## Building models.\n",
    "\n",
    "So our initial time series has 1 strong autocorrelation but the differences seem to show no real autocorrelation. Let's build some ARIMA models to experiment and see how we do!\n",
    "\n",
    "We're going to build a series of models to evaluate, each with slightly different parameters for the ARIMA. Note that the parameteres are passed in (p, d, q) order, corresponding to the AR, I, and MA portions respectively.\n",
    "\n",
    "Recall how we interpret those attributes. The AR is the past values, I is the level of differencing, and MA is adjusting to past errors."
   ]
  },
  {
   "cell_type": "code",
   "execution_count": 9,
   "metadata": {
    "ExecuteTime": {
     "end_time": "2020-03-22T00:54:09.038085Z",
     "start_time": "2020-03-22T00:54:08.972347Z"
    }
   },
   "outputs": [
    {
     "name": "stdout",
     "output_type": "stream",
     "text": [
      "                             ARIMA Model Results                              \n",
      "==============================================================================\n",
      "Dep. Variable:                D.price   No. Observations:                 2266\n",
      "Model:                 ARIMA(0, 1, 0)   Log Likelihood               -9602.159\n",
      "Method:                           css   S.D. of innovations             16.753\n",
      "Date:                Sat, 21 Mar 2020   AIC                          19208.317\n",
      "Time:                        20:54:08   BIC                          19219.769\n",
      "Sample:                             1   HQIC                         19212.496\n",
      "                                                                              \n",
      "==============================================================================\n",
      "                 coef    std err          z      P>|z|      [0.025      0.975]\n",
      "------------------------------------------------------------------------------\n",
      "const          0.3494      0.352      0.993      0.321      -0.340       1.039\n",
      "==============================================================================\n",
      "Residuals Description\n",
      "count    2.266000e+03\n",
      "mean     5.054699e-15\n",
      "std      1.675631e+01\n",
      "min     -1.069694e+02\n",
      "25%     -7.314369e+00\n",
      "50%      5.206311e-01\n",
      "75%      8.590631e+00\n",
      "max      1.037806e+02\n",
      "dtype: float64\n"
     ]
    },
    {
     "name": "stderr",
     "output_type": "stream",
     "text": [
      "/opt/anaconda3/lib/python3.7/site-packages/statsmodels/tsa/base/tsa_model.py:219: ValueWarning: A date index has been provided, but it has no associated frequency information and so will be ignored when e.g. forecasting.\n",
      "  ' ignored when e.g. forecasting.', ValueWarning)\n",
      "/opt/anaconda3/lib/python3.7/site-packages/statsmodels/tsa/base/tsa_model.py:219: ValueWarning: A date index has been provided, but it has no associated frequency information and so will be ignored when e.g. forecasting.\n",
      "  ' ignored when e.g. forecasting.', ValueWarning)\n"
     ]
    }
   ],
   "source": [
    "model = ARIMA(sp_data.price, order=(0, 1, 0))\n",
    "model_fit = model.fit()\n",
    "print(model_fit.summary())\n",
    "print('Residuals Description')\n",
    "print(model_fit.resid.describe())"
   ]
  },
  {
   "cell_type": "code",
   "execution_count": 10,
   "metadata": {
    "ExecuteTime": {
     "end_time": "2020-03-22T00:54:09.384352Z",
     "start_time": "2020-03-22T00:54:09.056230Z"
    }
   },
   "outputs": [
    {
     "name": "stderr",
     "output_type": "stream",
     "text": [
      "/opt/anaconda3/lib/python3.7/site-packages/statsmodels/tsa/base/tsa_model.py:219: ValueWarning: A date index has been provided, but it has no associated frequency information and so will be ignored when e.g. forecasting.\n",
      "  ' ignored when e.g. forecasting.', ValueWarning)\n"
     ]
    },
    {
     "name": "stdout",
     "output_type": "stream",
     "text": [
      "                              ARMA Model Results                              \n",
      "==============================================================================\n",
      "Dep. Variable:                  price   No. Observations:                 2267\n",
      "Model:                     ARMA(1, 0)   Log Likelihood               -9609.725\n",
      "Method:                       css-mle   S.D. of innovations             16.753\n",
      "Date:                Sat, 21 Mar 2020   AIC                          19225.450\n",
      "Time:                        20:54:09   BIC                          19242.628\n",
      "Sample:                             0   HQIC                         19231.717\n",
      "                                                                              \n",
      "===============================================================================\n",
      "                  coef    std err          z      P>|z|      [0.025      0.975]\n",
      "-------------------------------------------------------------------------------\n",
      "const        1701.9207    334.821      5.083      0.000    1045.683    2358.159\n",
      "ar.L1.price     0.9993      0.001   1569.487      0.000       0.998       1.001\n",
      "                                    Roots                                    \n",
      "=============================================================================\n",
      "                  Real          Imaginary           Modulus         Frequency\n",
      "-----------------------------------------------------------------------------\n",
      "AR.1            1.0007           +0.0000j            1.0007            0.0000\n",
      "-----------------------------------------------------------------------------\n",
      "Residuals Description\n",
      "count    2267.000000\n",
      "mean        0.105314\n",
      "std        17.589153\n",
      "min      -254.760746\n",
      "25%        -7.100928\n",
      "50%         0.733129\n",
      "75%         8.806503\n",
      "max       103.548347\n",
      "dtype: float64\n"
     ]
    }
   ],
   "source": [
    "model = ARIMA(sp_data.price, order=(1, 0, 0))\n",
    "model_fit = model.fit()\n",
    "print(model_fit.summary())\n",
    "print('Residuals Description')\n",
    "print(model_fit.resid.describe())"
   ]
  },
  {
   "cell_type": "code",
   "execution_count": 11,
   "metadata": {
    "ExecuteTime": {
     "end_time": "2020-03-22T00:54:09.958865Z",
     "start_time": "2020-03-22T00:54:09.389315Z"
    }
   },
   "outputs": [
    {
     "name": "stderr",
     "output_type": "stream",
     "text": [
      "/opt/anaconda3/lib/python3.7/site-packages/statsmodels/tsa/base/tsa_model.py:219: ValueWarning: A date index has been provided, but it has no associated frequency information and so will be ignored when e.g. forecasting.\n",
      "  ' ignored when e.g. forecasting.', ValueWarning)\n"
     ]
    },
    {
     "name": "stdout",
     "output_type": "stream",
     "text": [
      "                              ARMA Model Results                              \n",
      "==============================================================================\n",
      "Dep. Variable:                  price   No. Observations:                 2267\n",
      "Model:                     ARMA(1, 1)   Log Likelihood               -9603.247\n",
      "Method:                       css-mle   S.D. of innovations             16.705\n",
      "Date:                Sat, 21 Mar 2020   AIC                          19214.494\n",
      "Time:                        20:54:09   BIC                          19237.398\n",
      "Sample:                             0   HQIC                         19222.851\n",
      "                                                                              \n",
      "===============================================================================\n",
      "                  coef    std err          z      P>|z|      [0.025      0.975]\n",
      "-------------------------------------------------------------------------------\n",
      "const        1710.8287    345.732      4.948      0.000    1033.206    2388.451\n",
      "ar.L1.price     0.9994      0.001   1779.740      0.000       0.998       1.000\n",
      "ma.L1.price    -0.0787      0.022     -3.614      0.000      -0.121      -0.036\n",
      "                                    Roots                                    \n",
      "=============================================================================\n",
      "                  Real          Imaginary           Modulus         Frequency\n",
      "-----------------------------------------------------------------------------\n",
      "AR.1            1.0006           +0.0000j            1.0006            0.0000\n",
      "MA.1           12.7117           +0.0000j           12.7117            0.0000\n",
      "-----------------------------------------------------------------------------\n",
      "Residuals Description\n",
      "count    2267.000000\n",
      "mean        0.136727\n",
      "std        17.601262\n",
      "min      -263.668718\n",
      "25%        -7.064192\n",
      "50%         1.024989\n",
      "75%         8.739087\n",
      "max       102.278263\n",
      "dtype: float64\n"
     ]
    }
   ],
   "source": [
    "model = ARIMA(sp_data.price, order=(1, 0, 1))\n",
    "model_fit = model.fit()\n",
    "print(model_fit.summary())\n",
    "print('Residuals Description')\n",
    "print(model_fit.resid.describe())"
   ]
  },
  {
   "cell_type": "code",
   "execution_count": 12,
   "metadata": {
    "ExecuteTime": {
     "end_time": "2020-03-22T00:54:10.367493Z",
     "start_time": "2020-03-22T00:54:09.963982Z"
    }
   },
   "outputs": [
    {
     "name": "stderr",
     "output_type": "stream",
     "text": [
      "/opt/anaconda3/lib/python3.7/site-packages/statsmodels/tsa/base/tsa_model.py:219: ValueWarning: A date index has been provided, but it has no associated frequency information and so will be ignored when e.g. forecasting.\n",
      "  ' ignored when e.g. forecasting.', ValueWarning)\n",
      "/opt/anaconda3/lib/python3.7/site-packages/statsmodels/tsa/base/tsa_model.py:219: ValueWarning: A date index has been provided, but it has no associated frequency information and so will be ignored when e.g. forecasting.\n",
      "  ' ignored when e.g. forecasting.', ValueWarning)\n"
     ]
    },
    {
     "name": "stdout",
     "output_type": "stream",
     "text": [
      "                             ARIMA Model Results                              \n",
      "==============================================================================\n",
      "Dep. Variable:                D.price   No. Observations:                 2266\n",
      "Model:                 ARIMA(1, 1, 1)   Log Likelihood               -9592.974\n",
      "Method:                       css-mle   S.D. of innovations             16.685\n",
      "Date:                Sat, 21 Mar 2020   AIC                          19193.947\n",
      "Time:                        20:54:10   BIC                          19216.850\n",
      "Sample:                             1   HQIC                         19202.304\n",
      "                                                                              \n",
      "=================================================================================\n",
      "                    coef    std err          z      P>|z|      [0.025      0.975]\n",
      "---------------------------------------------------------------------------------\n",
      "const             0.3529      0.289      1.222      0.222      -0.213       0.919\n",
      "ar.L1.D.price     0.5832      0.155      3.765      0.000       0.280       0.887\n",
      "ma.L1.D.price    -0.6565      0.144     -4.559      0.000      -0.939      -0.374\n",
      "                                    Roots                                    \n",
      "=============================================================================\n",
      "                  Real          Imaginary           Modulus         Frequency\n",
      "-----------------------------------------------------------------------------\n",
      "AR.1            1.7147           +0.0000j            1.7147            0.0000\n",
      "MA.1            1.5232           +0.0000j            1.5232            0.0000\n",
      "-----------------------------------------------------------------------------\n",
      "Residuals Description\n",
      "count    2266.000000\n",
      "mean       -0.002481\n",
      "std        16.688544\n",
      "min      -106.294397\n",
      "25%        -7.452392\n",
      "50%         1.039108\n",
      "75%         8.708546\n",
      "max        96.668714\n",
      "dtype: float64\n"
     ]
    }
   ],
   "source": [
    "model = ARIMA(sp_data.price, order=(1, 1, 1))\n",
    "model_fit = model.fit()\n",
    "print(model_fit.summary())\n",
    "print('Residuals Description')\n",
    "print(model_fit.resid.describe())"
   ]
  },
  {
   "cell_type": "code",
   "execution_count": 13,
   "metadata": {
    "ExecuteTime": {
     "end_time": "2020-03-22T00:54:24.897566Z",
     "start_time": "2020-03-22T00:54:10.371117Z"
    }
   },
   "outputs": [
    {
     "name": "stderr",
     "output_type": "stream",
     "text": [
      "/opt/anaconda3/lib/python3.7/site-packages/statsmodels/tsa/base/tsa_model.py:219: ValueWarning: A date index has been provided, but it has no associated frequency information and so will be ignored when e.g. forecasting.\n",
      "  ' ignored when e.g. forecasting.', ValueWarning)\n",
      "/opt/anaconda3/lib/python3.7/site-packages/statsmodels/tsa/base/tsa_model.py:219: ValueWarning: A date index has been provided, but it has no associated frequency information and so will be ignored when e.g. forecasting.\n",
      "  ' ignored when e.g. forecasting.', ValueWarning)\n",
      "/opt/anaconda3/lib/python3.7/site-packages/statsmodels/base/model.py:492: HessianInversionWarning: Inverting hessian failed, no bse or cov_params available\n",
      "  'available', HessianInversionWarning)\n"
     ]
    },
    {
     "name": "stdout",
     "output_type": "stream",
     "text": [
      "                             ARIMA Model Results                              \n",
      "==============================================================================\n",
      "Dep. Variable:                D.price   No. Observations:                 2266\n",
      "Model:                 ARIMA(5, 1, 5)   Log Likelihood               -9589.995\n",
      "Method:                       css-mle   S.D. of innovations             16.648\n",
      "Date:                Sat, 21 Mar 2020   AIC                          19203.990\n",
      "Time:                        20:54:23   BIC                          19272.699\n",
      "Sample:                             1   HQIC                         19229.060\n",
      "                                                                              \n",
      "=================================================================================\n",
      "                    coef    std err          z      P>|z|      [0.025      0.975]\n",
      "---------------------------------------------------------------------------------\n",
      "const             0.3496      0.288      1.215      0.224      -0.214       0.914\n",
      "ar.L1.D.price    -0.7874      0.148     -5.306      0.000      -1.078      -0.497\n",
      "ar.L2.D.price    -0.4261      0.208     -2.048      0.041      -0.834      -0.018\n",
      "ar.L3.D.price    -0.6260      0.190     -3.299      0.001      -0.998      -0.254\n",
      "ar.L4.D.price    -0.1378      0.208     -0.662      0.508      -0.546       0.270\n",
      "ar.L5.D.price     0.5942      0.146      4.071      0.000       0.308       0.880\n",
      "ma.L1.D.price     0.7157      0.138      5.197      0.000       0.446       0.986\n",
      "ma.L2.D.price     0.3248      0.192      1.689      0.091      -0.052       0.702\n",
      "ma.L3.D.price     0.5420      0.175      3.105      0.002       0.200       0.884\n",
      "ma.L4.D.price     0.0450      0.192      0.234      0.815      -0.332       0.422\n",
      "ma.L5.D.price    -0.6672      0.136     -4.923      0.000      -0.933      -0.402\n",
      "                                    Roots                                    \n",
      "=============================================================================\n",
      "                  Real          Imaginary           Modulus         Frequency\n",
      "-----------------------------------------------------------------------------\n",
      "AR.1           -0.9096           -0.4343j            1.0080           -0.4291\n",
      "AR.2           -0.9096           +0.4343j            1.0080            0.4291\n",
      "AR.3            0.1995           -0.9813j            1.0013           -0.2181\n",
      "AR.4            0.1995           +0.9813j            1.0013            0.2181\n",
      "AR.5            1.6522           -0.0000j            1.6522           -0.0000\n",
      "MA.1           -0.9082           -0.4330j            1.0061           -0.4292\n",
      "MA.2           -0.9082           +0.4330j            1.0061            0.4292\n",
      "MA.3            0.2016           -0.9795j            1.0000           -0.2177\n",
      "MA.4            0.2016           +0.9795j            1.0000            0.2177\n",
      "MA.5            1.4806           -0.0000j            1.4806           -0.0000\n",
      "-----------------------------------------------------------------------------\n",
      "Residuals Description\n",
      "count    2266.000000\n",
      "mean        0.000898\n",
      "std        16.669705\n",
      "min      -104.622162\n",
      "25%        -7.446163\n",
      "50%         0.904625\n",
      "75%         8.941890\n",
      "max        94.258849\n",
      "dtype: float64\n"
     ]
    }
   ],
   "source": [
    "model = ARIMA(sp_data.price, order=(5, 1, 5))\n",
    "model_fit = model.fit()\n",
    "print(model_fit.summary())\n",
    "print('Residuals Description')\n",
    "print(model_fit.resid.describe())"
   ]
  },
  {
   "cell_type": "markdown",
   "metadata": {},
   "source": [
    "Now, we haven't covered all of the output given by statsmodels summary function (if you want to dive deeper, we'd recommend you start diving [here](http://machinelearningmastery.com/arima-for-time-series-forecasting-with-python/)). **What we're most interested in here are the p values of the coefficients, the log likelihood, and the residuals statistics.**\n",
    "\n",
    "Now, the p-values are a way of approximating the likelihood that the coefficient has a significant effect on our outcome, though again it is formally a probability of more extreme results. It allows us to craft the 95% confidence interval for that coefficient. If zero is within that interval, than that coefficient is often considered to be potentially unnecessary.\n",
    "\n",
    "The log-likelihood is a log of the likelihood that the given model would generate the data we see. The closer to zero, the higher the probablity we are to have predicted our outcome with our given model.\n",
    "\n",
    "What you can tell from these models, however, is that the outcomes are not great. There is not a huge difference in performance across the models and they all seem generally pretty weak."
   ]
  },
  {
   "cell_type": "markdown",
   "metadata": {},
   "source": [
    "## Residuals\n",
    "\n",
    "Now, the last thing we want to introduce here are residuals. Residuals are basically what is left over when we build our model, or the difference between our prediction and the observed quantity. In time series residuals are typically pretty important. You want your residuals to be random and normally distributed. That's the assumption made about errors in linear modeling.\n",
    "\n",
    "So how can we validate this?\n",
    "\n",
    "Let's look at our ARIMA(1,1,1) residuals and see."
   ]
  },
  {
   "cell_type": "code",
   "execution_count": 14,
   "metadata": {
    "ExecuteTime": {
     "end_time": "2020-03-22T00:54:25.862474Z",
     "start_time": "2020-03-22T00:54:24.900938Z"
    }
   },
   "outputs": [
    {
     "name": "stderr",
     "output_type": "stream",
     "text": [
      "/opt/anaconda3/lib/python3.7/site-packages/statsmodels/tsa/base/tsa_model.py:219: ValueWarning: A date index has been provided, but it has no associated frequency information and so will be ignored when e.g. forecasting.\n",
      "  ' ignored when e.g. forecasting.', ValueWarning)\n",
      "/opt/anaconda3/lib/python3.7/site-packages/statsmodels/tsa/base/tsa_model.py:219: ValueWarning: A date index has been provided, but it has no associated frequency information and so will be ignored when e.g. forecasting.\n",
      "  ' ignored when e.g. forecasting.', ValueWarning)\n"
     ]
    },
    {
     "data": {
      "image/png": "[encoded data removed]",
      "text/plain": [
       "<Figure size 432x288 with 1 Axes>"
      ]
     },
     "metadata": {
      "needs_background": "light"
     },
     "output_type": "display_data"
    },
    {
     "data": {
      "image/png": "[encoded data removed]",
      "text/plain": [
       "<Figure size 432x288 with 1 Axes>"
      ]
     },
     "metadata": {
      "needs_background": "light"
     },
     "output_type": "display_data"
    }
   ],
   "source": [
    "model = ARIMA(sp_data.price, order=(1, 1, 1))\n",
    "model_111_fit = model.fit()\n",
    "residuals = pd.DataFrame(model_111_fit.resid)\n",
    "\n",
    "residuals.plot(legend=False)\n",
    "plt.title('Time Series of Residuals')\n",
    "\n",
    "residuals.hist(bins=20)\n",
    "plt.title('Histogram of Residuals')\n",
    "plt.show()"
   ]
  },
  {
   "cell_type": "markdown",
   "metadata": {},
   "source": [
    "When we look at these residuals plots, we can make two reasonable assumptions. Firstly, there isn't a clear trend in the residuals. There are definitely places of higher volatility, and our model could be expanded to include not time series elements that could account for that variation (by that we mean typical regression coefficients as we did in the linear modeling sections before, though this would require a dataset that includes such features). However, there isn't a clear trend to the data indicating an obviously missed seasonality.\n",
    "\n",
    "Secondly, our residuals seem approximately standard normal. There is a very long tail on the lower end, but that is a very small number of observations that are likely outliers or caused by some external influence."
   ]
  },
  {
   "cell_type": "markdown",
   "metadata": {},
   "source": [
    "## Interpreting the ARIMA (1,0,1)\n",
    "\n",
    "An ARIMA model can be understood by outlining each of its components as follows:\n",
    "\n",
    "* Autoregression (AR) refers to a model that shows a changing variable that regresses on its own lagged, or prior, values.\n",
    "* Integrated (I) represents the differencing of raw observations to allow for the time series to become stationary, i.e., data values are replaced by the difference between the data values and the previous values.\n",
    "* Moving average (MA) incorporates the dependency between an observation and a residual error from a moving average model applied to lagged observations.\n",
    "\n",
    "Each component functions as a parameter with a standard notation. For ARIMA models, a standard notation would be ARIMA with p, d, and q, where integer values substitute for the parameters to indicate the type of ARIMA model used. The parameters can be defined as:\n",
    "\n",
    "* p: the number of lag observations in the model; also known as the lag order.\n",
    "* d: the number of times that the raw observations are differenced; also known as the degree of differencing.\n",
    "* q: the size of the moving average window; also known as the order of the moving average.\n",
    "\n",
    "Before we move on to the Challenge for this section, let's return to model interpretation. We've spent this time building models, but we haven't really talked about what our output means. Our ARIMA(1,0,1) is a good example for a quick interpretation.\n",
    "\n",
    "Firstly, the constant is approximately 1700. Then each day is approximately equal to the previous day's value. This is explained through the AR1 coefficient being approximately .9994. The moving average term is approximately .08, meaning that it will move against the previous error by about 8%. These two combine to show a is steadily at the same level as the previous value, but compensating back slightly against any error.\n",
    "\n",
    "Remember: AIC can only be used to compare ARIMA models with the same orders of differencing. For ARIMAs with different orders of differencing, RMSE can be used for model comparison."
   ]
  },
  {
   "cell_type": "markdown",
   "metadata": {},
   "source": [
    "### Can you interpret the output of one of the other models? What about ARIMA(1,1,1)? Which do you prefer? Then try some of your own coefficients below.\n",
    "For ARIMA(1,1,1):\n",
    "* The constant is  0.3530 (p > 0.05).\n",
    "* The AR1 coefficient is 0.5832 (p < 0.05), meaning the current difference is about 60% of the previous difference.\n",
    "* The MA1 coefficient is -0.6565 (p < 0.05), meaning the current error in differences will move against the previous error in differences by 66%.\n",
    "\n",
    "The models seem pretty similar in terms of log likelihood and AIC, but I prefer ARIMA(1,1,1) because it takes into acount the need for stationary data."
   ]
  },
  {
   "cell_type": "code",
   "execution_count": 32,
   "metadata": {
    "ExecuteTime": {
     "end_time": "2020-03-22T00:58:40.663895Z",
     "start_time": "2020-03-22T00:58:40.561254Z"
    }
   },
   "outputs": [
    {
     "name": "stdout",
     "output_type": "stream",
     "text": [
      "                             ARIMA Model Results                              \n",
      "==============================================================================\n",
      "Dep. Variable:                D.price   No. Observations:                 2266\n",
      "Model:                 ARIMA(1, 1, 0)   Log Likelihood               -9596.051\n",
      "Method:                       css-mle   S.D. of innovations             16.707\n",
      "Date:                Sat, 21 Mar 2020   AIC                          19198.102\n",
      "Time:                        20:58:40   BIC                          19215.279\n",
      "Sample:                             1   HQIC                         19204.369\n",
      "                                                                              \n",
      "=================================================================================\n",
      "                    coef    std err          z      P>|z|      [0.025      0.975]\n",
      "---------------------------------------------------------------------------------\n",
      "const             0.3497      0.327      1.069      0.285      -0.291       0.991\n",
      "ar.L1.D.price    -0.0733      0.021     -3.500      0.000      -0.114      -0.032\n",
      "                                    Roots                                    \n",
      "=============================================================================\n",
      "                  Real          Imaginary           Modulus         Frequency\n",
      "-----------------------------------------------------------------------------\n",
      "AR.1          -13.6398           +0.0000j           13.6398            0.5000\n",
      "-----------------------------------------------------------------------------\n",
      "Residuals Description\n",
      "count    2266.000000\n",
      "mean       -0.000002\n",
      "std        16.711187\n",
      "min      -106.714538\n",
      "25%        -7.361322\n",
      "50%         0.735868\n",
      "75%         8.383943\n",
      "max       102.970197\n",
      "dtype: float64\n"
     ]
    },
    {
     "name": "stderr",
     "output_type": "stream",
     "text": [
      "/opt/anaconda3/lib/python3.7/site-packages/statsmodels/tsa/base/tsa_model.py:219: ValueWarning: A date index has been provided, but it has no associated frequency information and so will be ignored when e.g. forecasting.\n",
      "  ' ignored when e.g. forecasting.', ValueWarning)\n",
      "/opt/anaconda3/lib/python3.7/site-packages/statsmodels/tsa/base/tsa_model.py:219: ValueWarning: A date index has been provided, but it has no associated frequency information and so will be ignored when e.g. forecasting.\n",
      "  ' ignored when e.g. forecasting.', ValueWarning)\n"
     ]
    }
   ],
   "source": [
    "model = ARIMA(sp_data.price, order=(1, 1, 0))\n",
    "model_fit = model.fit()\n",
    "print(model_fit.summary())\n",
    "print('Residuals Description')\n",
    "print(model_fit.resid.describe())"
   ]
  },
  {
   "cell_type": "code",
   "execution_count": 31,
   "metadata": {
    "ExecuteTime": {
     "end_time": "2020-03-22T00:58:25.002040Z",
     "start_time": "2020-03-22T00:58:24.868492Z"
    },
    "scrolled": true
   },
   "outputs": [
    {
     "name": "stdout",
     "output_type": "stream",
     "text": [
      "                             ARIMA Model Results                              \n",
      "==============================================================================\n",
      "Dep. Variable:                D.price   No. Observations:                 2266\n",
      "Model:                 ARIMA(2, 1, 0)   Log Likelihood               -9594.032\n",
      "Method:                       css-mle   S.D. of innovations             16.693\n",
      "Date:                Sat, 21 Mar 2020   AIC                          19196.064\n",
      "Time:                        20:58:24   BIC                          19218.967\n",
      "Sample:                             1   HQIC                         19204.420\n",
      "                                                                              \n",
      "=================================================================================\n",
      "                    coef    std err          z      P>|z|      [0.025      0.975]\n",
      "---------------------------------------------------------------------------------\n",
      "const             0.3505      0.313      1.118      0.264      -0.264       0.965\n",
      "ar.L1.D.price    -0.0764      0.021     -3.641      0.000      -0.118      -0.035\n",
      "ar.L2.D.price    -0.0422      0.021     -2.010      0.045      -0.083      -0.001\n",
      "                                    Roots                                    \n",
      "=============================================================================\n",
      "                  Real          Imaginary           Modulus         Frequency\n",
      "-----------------------------------------------------------------------------\n",
      "AR.1           -0.9049           -4.7816j            4.8665           -0.2798\n",
      "AR.2           -0.9049           +4.7816j            4.8665            0.2798\n",
      "-----------------------------------------------------------------------------\n",
      "Residuals Description\n",
      "count    2266.000000\n",
      "mean       -0.000685\n",
      "std        16.696320\n",
      "min      -105.735163\n",
      "25%        -7.367790\n",
      "50%         0.888702\n",
      "75%         8.586537\n",
      "max        99.752587\n",
      "dtype: float64\n"
     ]
    },
    {
     "name": "stderr",
     "output_type": "stream",
     "text": [
      "/opt/anaconda3/lib/python3.7/site-packages/statsmodels/tsa/base/tsa_model.py:219: ValueWarning: A date index has been provided, but it has no associated frequency information and so will be ignored when e.g. forecasting.\n",
      "  ' ignored when e.g. forecasting.', ValueWarning)\n",
      "/opt/anaconda3/lib/python3.7/site-packages/statsmodels/tsa/base/tsa_model.py:219: ValueWarning: A date index has been provided, but it has no associated frequency information and so will be ignored when e.g. forecasting.\n",
      "  ' ignored when e.g. forecasting.', ValueWarning)\n"
     ]
    }
   ],
   "source": [
    "model = ARIMA(sp_data.price, order=(2, 1, 0))\n",
    "model_fit = model.fit()\n",
    "print(model_fit.summary())\n",
    "print('Residuals Description')\n",
    "print(model_fit.resid.describe())"
   ]
  },
  {
   "cell_type": "code",
   "execution_count": 35,
   "metadata": {
    "ExecuteTime": {
     "end_time": "2020-03-22T00:59:30.528252Z",
     "start_time": "2020-03-22T00:59:29.805219Z"
    },
    "scrolled": true
   },
   "outputs": [
    {
     "name": "stderr",
     "output_type": "stream",
     "text": [
      "/opt/anaconda3/lib/python3.7/site-packages/statsmodels/tsa/base/tsa_model.py:219: ValueWarning: A date index has been provided, but it has no associated frequency information and so will be ignored when e.g. forecasting.\n",
      "  ' ignored when e.g. forecasting.', ValueWarning)\n",
      "/opt/anaconda3/lib/python3.7/site-packages/statsmodels/tsa/base/tsa_model.py:219: ValueWarning: A date index has been provided, but it has no associated frequency information and so will be ignored when e.g. forecasting.\n",
      "  ' ignored when e.g. forecasting.', ValueWarning)\n"
     ]
    },
    {
     "name": "stdout",
     "output_type": "stream",
     "text": [
      "                             ARIMA Model Results                              \n",
      "==============================================================================\n",
      "Dep. Variable:                D.price   No. Observations:                 2266\n",
      "Model:                 ARIMA(2, 1, 1)   Log Likelihood               -9592.820\n",
      "Method:                       css-mle   S.D. of innovations             16.684\n",
      "Date:                Sat, 21 Mar 2020   AIC                          19195.640\n",
      "Time:                        20:59:30   BIC                          19224.268\n",
      "Sample:                             1   HQIC                         19206.085\n",
      "                                                                              \n",
      "=================================================================================\n",
      "                    coef    std err          z      P>|z|      [0.025      0.975]\n",
      "---------------------------------------------------------------------------------\n",
      "const             0.3533      0.286      1.236      0.217      -0.207       0.914\n",
      "ar.L1.D.price     0.6496      0.161      4.031      0.000       0.334       0.965\n",
      "ar.L2.D.price     0.0165      0.029      0.559      0.576      -0.041       0.074\n",
      "ma.L1.D.price    -0.7277      0.160     -4.560      0.000      -1.040      -0.415\n",
      "                                    Roots                                    \n",
      "=============================================================================\n",
      "                  Real          Imaginary           Modulus         Frequency\n",
      "-----------------------------------------------------------------------------\n",
      "AR.1            1.4835           +0.0000j            1.4835            0.0000\n",
      "AR.2          -40.8961           +0.0000j           40.8961            0.5000\n",
      "MA.1            1.3742           +0.0000j            1.3742            0.0000\n",
      "-----------------------------------------------------------------------------\n",
      "Residuals Description\n",
      "count    2266.000000\n",
      "mean       -0.002853\n",
      "std        16.687402\n",
      "min      -106.499044\n",
      "25%        -7.401353\n",
      "50%         1.036954\n",
      "75%         8.711418\n",
      "max        96.903821\n",
      "dtype: float64\n"
     ]
    }
   ],
   "source": [
    "model = ARIMA(sp_data.price, order=(2, 1, 1))\n",
    "model_fit = model.fit()\n",
    "print(model_fit.summary())\n",
    "print('Residuals Description')\n",
    "print(model_fit.resid.describe())"
   ]
  },
  {
   "cell_type": "code",
   "execution_count": 41,
   "metadata": {
    "ExecuteTime": {
     "end_time": "2020-03-22T01:01:14.407439Z",
     "start_time": "2020-03-22T01:01:12.886367Z"
    },
    "scrolled": true
   },
   "outputs": [
    {
     "name": "stderr",
     "output_type": "stream",
     "text": [
      "/opt/anaconda3/lib/python3.7/site-packages/statsmodels/tsa/base/tsa_model.py:219: ValueWarning: A date index has been provided, but it has no associated frequency information and so will be ignored when e.g. forecasting.\n",
      "  ' ignored when e.g. forecasting.', ValueWarning)\n",
      "/opt/anaconda3/lib/python3.7/site-packages/statsmodels/tsa/base/tsa_model.py:219: ValueWarning: A date index has been provided, but it has no associated frequency information and so will be ignored when e.g. forecasting.\n",
      "  ' ignored when e.g. forecasting.', ValueWarning)\n"
     ]
    },
    {
     "name": "stdout",
     "output_type": "stream",
     "text": [
      "                             ARIMA Model Results                              \n",
      "==============================================================================\n",
      "Dep. Variable:                D.price   No. Observations:                 2266\n",
      "Model:                 ARIMA(2, 1, 2)   Log Likelihood               -9591.986\n",
      "Method:                       css-mle   S.D. of innovations             16.677\n",
      "Date:                Sat, 21 Mar 2020   AIC                          19195.971\n",
      "Time:                        21:01:14   BIC                          19230.326\n",
      "Sample:                             1   HQIC                         19208.506\n",
      "                                                                              \n",
      "=================================================================================\n",
      "                    coef    std err          z      P>|z|      [0.025      0.975]\n",
      "---------------------------------------------------------------------------------\n",
      "const             0.3532      0.287      1.230      0.219      -0.209       0.916\n",
      "ar.L1.D.price    -0.3127      0.150     -2.084      0.037      -0.607      -0.019\n",
      "ar.L2.D.price     0.5851      0.134      4.376      0.000       0.323       0.847\n",
      "ma.L1.D.price     0.2358      0.142      1.666      0.096      -0.042       0.513\n",
      "ma.L2.D.price    -0.6398      0.123     -5.221      0.000      -0.880      -0.400\n",
      "                                    Roots                                    \n",
      "=============================================================================\n",
      "                  Real          Imaginary           Modulus         Frequency\n",
      "-----------------------------------------------------------------------------\n",
      "AR.1           -1.0672           +0.0000j            1.0672            0.5000\n",
      "AR.2            1.6016           +0.0000j            1.6016            0.0000\n",
      "MA.1           -1.0794           +0.0000j            1.0794            0.5000\n",
      "MA.2            1.4480           +0.0000j            1.4480            0.0000\n",
      "-----------------------------------------------------------------------------\n",
      "Residuals Description\n",
      "count    2266.000000\n",
      "mean       -0.002719\n",
      "std        16.681274\n",
      "min      -105.867272\n",
      "25%        -7.380010\n",
      "50%         0.927017\n",
      "75%         8.717180\n",
      "max        98.286207\n",
      "dtype: float64\n"
     ]
    }
   ],
   "source": [
    "model = ARIMA(sp_data.price, order=(2, 1, 2))\n",
    "model_fit = model.fit()\n",
    "print(model_fit.summary())\n",
    "print('Residuals Description')\n",
    "print(model_fit.resid.describe())"
   ]
  },
  {
   "cell_type": "code",
   "execution_count": 42,
   "metadata": {
    "ExecuteTime": {
     "end_time": "2020-03-22T01:01:26.559037Z",
     "start_time": "2020-03-22T01:01:25.906728Z"
    }
   },
   "outputs": [
    {
     "name": "stderr",
     "output_type": "stream",
     "text": [
      "/opt/anaconda3/lib/python3.7/site-packages/statsmodels/tsa/base/tsa_model.py:219: ValueWarning: A date index has been provided, but it has no associated frequency information and so will be ignored when e.g. forecasting.\n",
      "  ' ignored when e.g. forecasting.', ValueWarning)\n",
      "/opt/anaconda3/lib/python3.7/site-packages/statsmodels/tsa/base/tsa_model.py:219: ValueWarning: A date index has been provided, but it has no associated frequency information and so will be ignored when e.g. forecasting.\n",
      "  ' ignored when e.g. forecasting.', ValueWarning)\n"
     ]
    },
    {
     "name": "stdout",
     "output_type": "stream",
     "text": [
      "                             ARIMA Model Results                              \n",
      "==============================================================================\n",
      "Dep. Variable:                D.price   No. Observations:                 2266\n",
      "Model:                 ARIMA(1, 1, 2)   Log Likelihood               -9592.813\n",
      "Method:                       css-mle   S.D. of innovations             16.684\n",
      "Date:                Sat, 21 Mar 2020   AIC                          19195.626\n",
      "Time:                        21:01:26   BIC                          19224.255\n",
      "Sample:                             1   HQIC                         19206.072\n",
      "                                                                              \n",
      "=================================================================================\n",
      "                    coef    std err          z      P>|z|      [0.025      0.975]\n",
      "---------------------------------------------------------------------------------\n",
      "const             0.3533      0.286      1.236      0.216      -0.207       0.913\n",
      "ar.L1.D.price     0.6795      0.190      3.581      0.000       0.308       1.051\n",
      "ma.L1.D.price    -0.7578      0.191     -3.960      0.000      -1.133      -0.383\n",
      "ma.L2.D.price     0.0191      0.033      0.578      0.564      -0.046       0.084\n",
      "                                    Roots                                    \n",
      "=============================================================================\n",
      "                  Real          Imaginary           Modulus         Frequency\n",
      "-----------------------------------------------------------------------------\n",
      "AR.1            1.4717           +0.0000j            1.4717            0.0000\n",
      "MA.1            1.3666           +0.0000j            1.3666            0.0000\n",
      "MA.2           38.3332           +0.0000j           38.3332            0.0000\n",
      "-----------------------------------------------------------------------------\n",
      "Residuals Description\n",
      "count    2266.000000\n",
      "mean       -0.002866\n",
      "std        16.687353\n",
      "min      -106.497912\n",
      "25%        -7.399203\n",
      "50%         1.030219\n",
      "75%         8.708965\n",
      "max        96.912742\n",
      "dtype: float64\n"
     ]
    }
   ],
   "source": [
    "model = ARIMA(sp_data.price, order=(1, 1, 2))\n",
    "model_fit = model.fit()\n",
    "print(model_fit.summary())\n",
    "print('Residuals Description')\n",
    "print(model_fit.resid.describe())"
   ]
  },
  {
   "cell_type": "markdown",
   "metadata": {},
   "source": [
    "## Comparing Models with AIC\n",
    "\n",
    "Now we've generated a series of models, which one works best?\n",
    "\n",
    "Well, one of the easiest ways to compare time series models is with something called _Akaike Information Criteria_, or AIC. AIC is a measure of the degree of information contained in the model, if you recall some of our discussions of information theory in the Decision Tree section.\n",
    "\n",
    "Now, conveniently `statsmodels` calculates AIC for us (You can look more at that calculation starting [here](https://www.otexts.org/fpp/8/6). We want to minimize the value of the AIC. The model with the lowest AIC is likely the best model to choose. How much better is calculated using the ratios of AIC's.\n",
    "\n",
    "When comparing to our minimal AIC, other models are compared in the context of information loss. We calculated the probability that another model minimizes information loss. That calculation is:\n",
    "\n",
    "$$ exp((AIC_{min} - AIC_{x})/2) $$\n",
    "\n",
    "This gives our probability of having lost less information with the other model.\n",
    "\n",
    "For our examples, ARIMA(1,1,1) has an AIC of 19193. Our worst model has an AIC of 19225 (It's our ARIMA(1,0,0) or AR(1) model). But how do they compare?\n",
    "\n",
    "It turns out, when doing the above calculation, we get a probability of 1.125e-7 that we lost less information in our AR(1) model. That is a big difference and suggests that ARIMA(1,1,1) is a much better model.\n",
    "\n",
    "Compare the other models to ARIMA(1,1,1) below."
   ]
  },
  {
   "cell_type": "code",
   "execution_count": 23,
   "metadata": {
    "ExecuteTime": {
     "end_time": "2020-03-22T00:56:51.197397Z",
     "start_time": "2020-03-22T00:56:51.188868Z"
    }
   },
   "outputs": [
    {
     "data": {
      "text/plain": [
       "0.0007578690079402409"
      ]
     },
     "execution_count": 23,
     "metadata": {},
     "output_type": "execute_result"
    }
   ],
   "source": [
    "# ARIMA(1,1,1) vs. ARIMA(0,1,0)\n",
    "math.exp((19193.947 - 19208.317) / 2)"
   ]
  },
  {
   "cell_type": "code",
   "execution_count": 24,
   "metadata": {
    "ExecuteTime": {
     "end_time": "2020-03-22T00:56:51.903367Z",
     "start_time": "2020-03-22T00:56:51.891677Z"
    }
   },
   "outputs": [
    {
     "data": {
      "text/plain": [
       "1.4428144005299202e-07"
      ]
     },
     "execution_count": 24,
     "metadata": {},
     "output_type": "execute_result"
    }
   ],
   "source": [
    "# ARIMA(1,1,1) vs. ARIMA(1,0,0)\n",
    "math.exp((19193.947 - 19225.450) / 2)"
   ]
  },
  {
   "cell_type": "code",
   "execution_count": 25,
   "metadata": {
    "ExecuteTime": {
     "end_time": "2020-03-22T00:56:52.467955Z",
     "start_time": "2020-03-22T00:56:52.453980Z"
    }
   },
   "outputs": [
    {
     "data": {
      "text/plain": [
       "3.45362866400351e-05"
      ]
     },
     "execution_count": 25,
     "metadata": {},
     "output_type": "execute_result"
    }
   ],
   "source": [
    "# ARIMA(1,1,1) vs. ARIMA(1,0,1)\n",
    "math.exp((19193.947 - 19214.494) / 2)"
   ]
  },
  {
   "cell_type": "code",
   "execution_count": 26,
   "metadata": {
    "ExecuteTime": {
     "end_time": "2020-03-22T00:56:53.103051Z",
     "start_time": "2020-03-22T00:56:53.091330Z"
    }
   },
   "outputs": [
    {
     "data": {
      "text/plain": [
       "1.0"
      ]
     },
     "execution_count": 26,
     "metadata": {},
     "output_type": "execute_result"
    }
   ],
   "source": [
    "# ARIMA(1,1,1) vs. ARIMA(1,1,1)\n",
    "math.exp((19193.947 - 19193.947) / 2)"
   ]
  },
  {
   "cell_type": "code",
   "execution_count": 27,
   "metadata": {
    "ExecuteTime": {
     "end_time": "2020-03-22T00:56:53.695839Z",
     "start_time": "2020-03-22T00:56:53.685147Z"
    }
   },
   "outputs": [
    {
     "data": {
      "text/plain": [
       "0.006594627345624836"
      ]
     },
     "execution_count": 27,
     "metadata": {},
     "output_type": "execute_result"
    }
   ],
   "source": [
    "# ARIMA(1,1,1) vs. ARIMA(5,1,5)\n",
    "math.exp((19193.947 - 19203.990) / 2)"
   ]
  },
  {
   "cell_type": "code",
   "execution_count": 29,
   "metadata": {
    "ExecuteTime": {
     "end_time": "2020-03-22T00:57:05.513885Z",
     "start_time": "2020-03-22T00:57:05.506717Z"
    }
   },
   "outputs": [
    {
     "data": {
      "text/plain": [
       "0.12524292846160742"
      ]
     },
     "execution_count": 29,
     "metadata": {},
     "output_type": "execute_result"
    }
   ],
   "source": [
    "# ARIMA(1,1,1) vs. ARIMA(1,1,0)\n",
    "math.exp((19193.947 - 19198.102) / 2)"
   ]
  },
  {
   "cell_type": "code",
   "execution_count": 33,
   "metadata": {
    "ExecuteTime": {
     "end_time": "2020-03-22T00:59:06.121470Z",
     "start_time": "2020-03-22T00:59:06.114561Z"
    }
   },
   "outputs": [
    {
     "data": {
      "text/plain": [
       "0.3469758840035764"
      ]
     },
     "execution_count": 33,
     "metadata": {},
     "output_type": "execute_result"
    }
   ],
   "source": [
    "# ARIMA(1,1,1) vs. ARIMA(2,1,0)\n",
    "math.exp((19193.947 - 19196.064) / 2)"
   ]
  },
  {
   "cell_type": "code",
   "execution_count": 36,
   "metadata": {
    "ExecuteTime": {
     "end_time": "2020-03-22T00:59:51.325673Z",
     "start_time": "2020-03-22T00:59:51.317687Z"
    }
   },
   "outputs": [
    {
     "data": {
      "text/plain": [
       "0.4289135051840654"
      ]
     },
     "execution_count": 36,
     "metadata": {},
     "output_type": "execute_result"
    }
   ],
   "source": [
    "# ARIMA(1,1,1) vs. ARIMA(2,1,1)\n",
    "math.exp((19193.947 - 19195.640) / 2)"
   ]
  },
  {
   "cell_type": "code",
   "execution_count": 38,
   "metadata": {
    "ExecuteTime": {
     "end_time": "2020-03-22T01:00:39.171134Z",
     "start_time": "2020-03-22T01:00:39.162932Z"
    }
   },
   "outputs": [
    {
     "data": {
      "text/plain": [
       "0.3634912695647294"
      ]
     },
     "execution_count": 38,
     "metadata": {},
     "output_type": "execute_result"
    }
   ],
   "source": [
    "# ARIMA(1,1,1) vs. ARIMA(2,1,2)\n",
    "math.exp((19193.947 - 19195.971) / 2)"
   ]
  },
  {
   "cell_type": "code",
   "execution_count": 43,
   "metadata": {
    "ExecuteTime": {
     "end_time": "2020-03-22T01:01:48.490427Z",
     "start_time": "2020-03-22T01:01:48.482895Z"
    }
   },
   "outputs": [
    {
     "data": {
      "text/plain": [
       "0.4319264326635859"
      ]
     },
     "execution_count": 43,
     "metadata": {},
     "output_type": "execute_result"
    }
   ],
   "source": [
    "# ARIMA(1,1,1) vs. ARIMA(1,1,2)\n",
    "math.exp((19193.947 - 19195.626) / 2)"
   ]
  }
 ],
 "metadata": {
  "kernelspec": {
   "display_name": "Python 3",
   "language": "python",
   "name": "python3"
  },
  "language_info": {
   "codemirror_mode": {
    "name": "ipython",
    "version": 3
   },
   "file_extension": ".py",
   "mimetype": "text/x-python",
   "name": "python",
   "nbconvert_exporter": "python",
   "pygments_lexer": "ipython3",
   "version": "3.7.4"
  },
  "toc": {
   "base_numbering": 1,
   "nav_menu": {},
   "number_sections": true,
   "sideBar": true,
   "skip_h1_title": false,
   "title_cell": "Table of Contents",
   "title_sidebar": "Contents",
   "toc_cell": false,
   "toc_position": {},
   "toc_section_display": true,
   "toc_window_display": false
  },
  "varInspector": {
   "cols": {
    "lenName": 16,
    "lenType": 16,
    "lenVar": 40
   },
   "kernels_config": {
    "python": {
     "delete_cmd_postfix": "",
     "delete_cmd_prefix": "del ",
     "library": "var_list.py",
     "varRefreshCmd": "print(var_dic_list())"
    },
    "r": {
     "delete_cmd_postfix": ") ",
     "delete_cmd_prefix": "rm(",
     "library": "var_list.r",
     "varRefreshCmd": "cat(var_dic_list()) "
    }
   },
   "types_to_exclude": [
    "module",
    "function",
    "builtin_function_or_method",
    "instance",
    "_Feature"
   ],
   "window_display": false
  }
 },
 "nbformat": 4,
 "nbformat_minor": 2
}
