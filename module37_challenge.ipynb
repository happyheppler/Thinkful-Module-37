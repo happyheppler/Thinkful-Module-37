{
 "cells": [
  {
   "cell_type": "markdown",
   "metadata": {},
   "source": [
    "# Challenge - Time Series Analysis\n",
    "Using a different time series data set (either from FRED or elsewhere, go about the process of time series modeling. Specifically generate the following things:\n",
    "\n",
    "* Plot the time series, along with any logical or necessary differences to get a stationary dataset\n",
    "* Generate and interpret a PACF for the time series (and/or its differences)\n",
    "* Generate 5 ARIMA specifications and evaluate their efficacy at modeling your data\n",
    "* Finally choose one specification and make the case for that as a logical model for your dataset."
   ]
  },
  {
   "cell_type": "markdown",
   "metadata": {},
   "source": [
    "The data here comes from the St. Louis Federal Reserve's database, affectionately called FRED and available [here](https://fred.stlouisfed.org). I used ten years of the Unemployment Rate data, starting Feb 1, 2010. I also referred to http://people.duke.edu/~rnau/411arim3.htm for help interpreting the results."
   ]
  },
  {
   "cell_type": "markdown",
   "metadata": {},
   "source": [
    "## Load Data"
   ]
  },
  {
   "cell_type": "code",
   "execution_count": 1,
   "metadata": {
    "ExecuteTime": {
     "end_time": "2020-03-22T02:05:28.454275Z",
     "start_time": "2020-03-22T02:05:10.932509Z"
    }
   },
   "outputs": [],
   "source": [
    "import numpy as np\n",
    "import pandas as pd\n",
    "import scipy\n",
    "import datetime as datetime\n",
    "import datetime as dt\n",
    "import matplotlib.pyplot as plt\n",
    "from statsmodels.tsa.stattools import pacf\n",
    "from statsmodels.graphics.tsaplots import plot_acf, plot_pacf\n",
    "from statsmodels.tsa.arima_model import ARIMA\n",
    "import math\n",
    "import pmdarima as pm\n",
    "\n",
    "%matplotlib inline"
   ]
  },
  {
   "cell_type": "code",
   "execution_count": 2,
   "metadata": {
    "ExecuteTime": {
     "end_time": "2020-03-22T02:05:28.566310Z",
     "start_time": "2020-03-22T02:05:28.458137Z"
    }
   },
   "outputs": [],
   "source": [
    "# Load data\n",
    "unemployment = pd.read_csv('UNRATE.csv')\n",
    "\n",
    "# Convert rate to a number, with coersion to throw NA if conversion not possible\n",
    "unemployment['unemp_rate'] = pd.to_numeric(unemployment.UNRATE, errors='coerce')\n",
    "\n",
    "# Drop NA\n",
    "unemployment.dropna(inplace=True)"
   ]
  },
  {
   "cell_type": "code",
   "execution_count": 3,
   "metadata": {
    "ExecuteTime": {
     "end_time": "2020-03-22T02:05:28.648704Z",
     "start_time": "2020-03-22T02:05:28.573189Z"
    }
   },
   "outputs": [
    {
     "data": {
      "text/html": [
       "<div>\n",
       "<style scoped>\n",
       "    .dataframe tbody tr th:only-of-type {\n",
       "        vertical-align: middle;\n",
       "    }\n",
       "\n",
       "    .dataframe tbody tr th {\n",
       "        vertical-align: top;\n",
       "    }\n",
       "\n",
       "    .dataframe thead th {\n",
       "        text-align: right;\n",
       "    }\n",
       "</style>\n",
       "<table border=\"1\" class=\"dataframe\">\n",
       "  <thead>\n",
       "    <tr style=\"text-align: right;\">\n",
       "      <th></th>\n",
       "      <th>DATE</th>\n",
       "      <th>UNRATE</th>\n",
       "      <th>unemp_rate</th>\n",
       "    </tr>\n",
       "  </thead>\n",
       "  <tbody>\n",
       "    <tr>\n",
       "      <td>0</td>\n",
       "      <td>2010-02-01</td>\n",
       "      <td>9.8</td>\n",
       "      <td>9.8</td>\n",
       "    </tr>\n",
       "    <tr>\n",
       "      <td>1</td>\n",
       "      <td>2010-03-01</td>\n",
       "      <td>9.9</td>\n",
       "      <td>9.9</td>\n",
       "    </tr>\n",
       "    <tr>\n",
       "      <td>2</td>\n",
       "      <td>2010-04-01</td>\n",
       "      <td>9.9</td>\n",
       "      <td>9.9</td>\n",
       "    </tr>\n",
       "    <tr>\n",
       "      <td>3</td>\n",
       "      <td>2010-05-01</td>\n",
       "      <td>9.6</td>\n",
       "      <td>9.6</td>\n",
       "    </tr>\n",
       "    <tr>\n",
       "      <td>4</td>\n",
       "      <td>2010-06-01</td>\n",
       "      <td>9.4</td>\n",
       "      <td>9.4</td>\n",
       "    </tr>\n",
       "  </tbody>\n",
       "</table>\n",
       "</div>"
      ],
      "text/plain": [
       "         DATE  UNRATE  unemp_rate\n",
       "0  2010-02-01     9.8         9.8\n",
       "1  2010-03-01     9.9         9.9\n",
       "2  2010-04-01     9.9         9.9\n",
       "3  2010-05-01     9.6         9.6\n",
       "4  2010-06-01     9.4         9.4"
      ]
     },
     "execution_count": 3,
     "metadata": {},
     "output_type": "execute_result"
    }
   ],
   "source": [
    "# Preview data\n",
    "unemployment.head()"
   ]
  },
  {
   "cell_type": "markdown",
   "metadata": {},
   "source": [
    "## Plot Time Series"
   ]
  },
  {
   "cell_type": "code",
   "execution_count": 4,
   "metadata": {
    "ExecuteTime": {
     "end_time": "2020-03-22T02:05:29.034945Z",
     "start_time": "2020-03-22T02:05:28.670945Z"
    }
   },
   "outputs": [
    {
     "data": {
      "image/png": "[encoded data removed]",
      "text/plain": [
       "<Figure size 432x288 with 1 Axes>"
      ]
     },
     "metadata": {
      "needs_background": "light"
     },
     "output_type": "display_data"
    }
   ],
   "source": [
    "# Plot unemployment rate time series\n",
    "unemployment.plot(y='unemp_rate')\n",
    "plt.title('Unemployment Rate Time Series')\n",
    "plt.show()"
   ]
  },
  {
   "cell_type": "code",
   "execution_count": 5,
   "metadata": {
    "ExecuteTime": {
     "end_time": "2020-03-22T02:05:29.399159Z",
     "start_time": "2020-03-22T02:05:29.040699Z"
    }
   },
   "outputs": [
    {
     "data": {
      "image/png": "[encoded data removed]",
      "text/plain": [
       "<Figure size 432x288 with 1 Axes>"
      ]
     },
     "metadata": {
      "needs_background": "light"
     },
     "output_type": "display_data"
    }
   ],
   "source": [
    "# Make datetime the index so x axis is meaningful\n",
    "unemployment.index = pd.to_datetime(unemployment.DATE)\n",
    "\n",
    "# Plot unemployment rate time series\n",
    "unemployment.plot(y='unemp_rate')\n",
    "plt.title('Unemployment Rate Time Series')\n",
    "plt.xlabel('Date')\n",
    "plt.ylabel('Percent')\n",
    "plt.legend(['unemployment rate'])\n",
    "\n",
    "plt.show()"
   ]
  },
  {
   "cell_type": "code",
   "execution_count": 6,
   "metadata": {
    "ExecuteTime": {
     "end_time": "2020-03-22T02:05:30.044743Z",
     "start_time": "2020-03-22T02:05:29.402247Z"
    },
    "scrolled": true
   },
   "outputs": [
    {
     "data": {
      "image/png": "[encoded data removed]",
      "text/plain": [
       "<Figure size 432x288 with 1 Axes>"
      ]
     },
     "metadata": {
      "needs_background": "light"
     },
     "output_type": "display_data"
    }
   ],
   "source": [
    "# Take first difference\n",
    "unemployment['diff_1'] = unemployment.unemp_rate - unemployment.unemp_rate.shift()\n",
    "\n",
    "# Plot first difference to see if data set is stationary\n",
    "unemployment.plot(y='diff_1')\n",
    "plt.title('Unemployment Time Series')\n",
    "plt.xlabel('Date')\n",
    "plt.ylabel('Difference')\n",
    "plt.show()"
   ]
  },
  {
   "cell_type": "markdown",
   "metadata": {},
   "source": [
    "The original data set had a constant downward trend, but the first difference appears to be stationary."
   ]
  },
  {
   "cell_type": "markdown",
   "metadata": {},
   "source": [
    "## Plot ACF and PACF"
   ]
  },
  {
   "cell_type": "code",
   "execution_count": 7,
   "metadata": {
    "ExecuteTime": {
     "end_time": "2020-03-22T02:05:30.319653Z",
     "start_time": "2020-03-22T02:05:30.051491Z"
    },
    "scrolled": true
   },
   "outputs": [
    {
     "data": {
      "image/png": "[encoded data removed]",
      "text/plain": [
       "<Figure size 432x288 with 1 Axes>"
      ]
     },
     "metadata": {
      "needs_background": "light"
     },
     "output_type": "display_data"
    }
   ],
   "source": [
    "# Use ACF to find most optimal MA(q) model\n",
    "plot_acf(unemployment.unemp_rate, lags=40, alpha=0.05)\n",
    "plt.title('Unemployment ACF')\n",
    "plt.xlabel('Lag')\n",
    "plt.ylabel('ACF')\n",
    "plt.show()"
   ]
  },
  {
   "cell_type": "markdown",
   "metadata": {},
   "source": [
    "The autocorrelations are significant for a large number of lags."
   ]
  },
  {
   "cell_type": "code",
   "execution_count": 9,
   "metadata": {
    "ExecuteTime": {
     "end_time": "2020-03-22T02:05:30.781281Z",
     "start_time": "2020-03-22T02:05:30.551295Z"
    },
    "scrolled": true
   },
   "outputs": [
    {
     "data": {
      "image/png": "[encoded data removed]",
      "text/plain": [
       "<Figure size 432x288 with 1 Axes>"
      ]
     },
     "metadata": {
      "needs_background": "light"
     },
     "output_type": "display_data"
    }
   ],
   "source": [
    "# Use PACF to find most optimal AR(p) model\n",
    "plot_pacf(unemployment.unemp_rate, lags=40, alpha=0.05)\n",
    "plt.title('Unemployment PACF')\n",
    "plt.xlabel('Lag')\n",
    "plt.ylabel('PACF')\n",
    "plt.show()"
   ]
  },
  {
   "cell_type": "markdown",
   "metadata": {},
   "source": [
    "However, the PACF plot confirms that the autocorrelations at two and above in the ACF are due to the propagation of the autocorrelation at lag 1. This result suggests that in the absence of differencing (I=0), an AR(1) model would be appropriate. Moreover, the height of the PACF spike at lag 1 is essentially 1, confirming that the unemployment time series data needs an order of differencing (I=1) to be stationary."
   ]
  },
  {
   "cell_type": "code",
   "execution_count": 8,
   "metadata": {
    "ExecuteTime": {
     "end_time": "2020-03-22T02:05:30.548371Z",
     "start_time": "2020-03-22T02:05:30.326623Z"
    },
    "scrolled": true
   },
   "outputs": [
    {
     "data": {
      "image/png": "[encoded data removed]",
      "text/plain": [
       "<Figure size 432x288 with 1 Axes>"
      ]
     },
     "metadata": {
      "needs_background": "light"
     },
     "output_type": "display_data"
    }
   ],
   "source": [
    "# Use ACF to find most optimal MA(q) model\n",
    "plot_acf(unemployment.diff_1[1:], lags=40, alpha=0.05)\n",
    "plt.title('Unemployment Difference ACF')\n",
    "plt.xlabel('Lag')\n",
    "plt.ylabel('ACF')\n",
    "plt.show()"
   ]
  },
  {
   "cell_type": "markdown",
   "metadata": {},
   "source": [
    "The autocorrelation at lag 1 is significant and negative, suggesting that the series is slightly \"overdifferenced\" and the model could use an MA term (q=1)."
   ]
  },
  {
   "cell_type": "code",
   "execution_count": 10,
   "metadata": {
    "ExecuteTime": {
     "end_time": "2020-03-22T02:05:31.049936Z",
     "start_time": "2020-03-22T02:05:30.784716Z"
    },
    "scrolled": true
   },
   "outputs": [
    {
     "data": {
      "image/png": "[encoded data removed]",
      "text/plain": [
       "<Figure size 432x288 with 1 Axes>"
      ]
     },
     "metadata": {
      "needs_background": "light"
     },
     "output_type": "display_data"
    }
   ],
   "source": [
    "# Use PACF to find most optimal AR(p) model\n",
    "plot_pacf(unemployment.diff_1[1:], lags=40, alpha=0.05)\n",
    "plt.title('Unemployment Difference PACF')\n",
    "plt.xlabel('Lag')\n",
    "plt.ylabel('PACF')\n",
    "plt.show()"
   ]
  },
  {
   "cell_type": "markdown",
   "metadata": {},
   "source": [
    "The autocorrelation at lags 1 is significant, but negative, suggesting that an AR term may not be beneficial to the model (p=0). Thus, based on these analyses, I will first try an ARIMA(0, 1, 1) model."
   ]
  },
  {
   "cell_type": "markdown",
   "metadata": {},
   "source": [
    "## Build Models"
   ]
  },
  {
   "cell_type": "markdown",
   "metadata": {},
   "source": [
    "### ARIMA(0, 1, 1)"
   ]
  },
  {
   "cell_type": "code",
   "execution_count": 41,
   "metadata": {
    "ExecuteTime": {
     "end_time": "2020-03-22T17:34:42.424070Z",
     "start_time": "2020-03-22T17:34:42.325371Z"
    },
    "scrolled": false
   },
   "outputs": [
    {
     "name": "stdout",
     "output_type": "stream",
     "text": [
      "                             ARIMA Model Results                              \n",
      "==============================================================================\n",
      "Dep. Variable:           D.unemp_rate   No. Observations:                  120\n",
      "Model:                 ARIMA(0, 1, 1)   Log Likelihood                  70.325\n",
      "Method:                       css-mle   S.D. of innovations              0.135\n",
      "Date:                Sun, 22 Mar 2020   AIC                           -134.651\n",
      "Time:                        13:34:42   BIC                           -126.288\n",
      "Sample:                    03-01-2010   HQIC                          -131.255\n",
      "                         - 02-01-2020                                         \n",
      "======================================================================================\n",
      "                         coef    std err          z      P>|z|      [0.025      0.975]\n",
      "--------------------------------------------------------------------------------------\n",
      "const                 -0.0529      0.008     -6.414      0.000      -0.069      -0.037\n",
      "ma.L1.D.unemp_rate    -0.3315      0.107     -3.110      0.002      -0.540      -0.123\n",
      "                                    Roots                                    \n",
      "=============================================================================\n",
      "                  Real          Imaginary           Modulus         Frequency\n",
      "-----------------------------------------------------------------------------\n",
      "MA.1            3.0166           +0.0000j            3.0166            0.0000\n",
      "-----------------------------------------------------------------------------\n"
     ]
    },
    {
     "name": "stderr",
     "output_type": "stream",
     "text": [
      "/opt/anaconda3/lib/python3.7/site-packages/statsmodels/tsa/base/tsa_model.py:162: ValueWarning: No frequency information was provided, so inferred frequency MS will be used.\n",
      "  % freq, ValueWarning)\n",
      "/opt/anaconda3/lib/python3.7/site-packages/statsmodels/tsa/base/tsa_model.py:162: ValueWarning: No frequency information was provided, so inferred frequency MS will be used.\n",
      "  % freq, ValueWarning)\n"
     ]
    }
   ],
   "source": [
    "model = ARIMA(unemployment.unemp_rate, order=(0, 1, 1))\n",
    "model_fit = model.fit()\n",
    "print(model_fit.summary())"
   ]
  },
  {
   "cell_type": "markdown",
   "metadata": {},
   "source": [
    "#### Conclusion\n",
    "* Constant is -0.0529\n",
    "* MA(1) coefficient is -0.3315 (p < 0.05)\n",
    "* Log likelihood is 70.325\n",
    "* AIC is -134.651 (81.9% chance this model minimizes information loss compared to ARIMA(0, 1, 2))"
   ]
  },
  {
   "cell_type": "markdown",
   "metadata": {},
   "source": [
    "### ARIMA(1, 0, 0)"
   ]
  },
  {
   "cell_type": "code",
   "execution_count": 11,
   "metadata": {
    "ExecuteTime": {
     "end_time": "2020-03-22T02:05:31.188261Z",
     "start_time": "2020-03-22T02:05:31.055168Z"
    },
    "scrolled": false
   },
   "outputs": [
    {
     "name": "stdout",
     "output_type": "stream",
     "text": [
      "                              ARMA Model Results                              \n",
      "==============================================================================\n",
      "Dep. Variable:             unemp_rate   No. Observations:                  121\n",
      "Model:                     ARMA(1, 0)   Log Likelihood                  55.540\n",
      "Method:                       css-mle   S.D. of innovations              0.149\n",
      "Date:                Sat, 21 Mar 2020   AIC                           -105.079\n",
      "Time:                        22:05:31   BIC                            -96.692\n",
      "Sample:                    02-01-2010   HQIC                          -101.673\n",
      "                         - 02-01-2020                                         \n",
      "====================================================================================\n",
      "                       coef    std err          z      P>|z|      [0.025      0.975]\n",
      "------------------------------------------------------------------------------------\n",
      "const                6.6156      2.933      2.256      0.024       0.868      12.363\n",
      "ar.L1.unemp_rate     0.9988      0.002    602.195      0.000       0.996       1.002\n",
      "                                    Roots                                    \n",
      "=============================================================================\n",
      "                  Real          Imaginary           Modulus         Frequency\n",
      "-----------------------------------------------------------------------------\n",
      "AR.1            1.0012           +0.0000j            1.0012            0.0000\n",
      "-----------------------------------------------------------------------------\n"
     ]
    },
    {
     "name": "stderr",
     "output_type": "stream",
     "text": [
      "/opt/anaconda3/lib/python3.7/site-packages/statsmodels/tsa/base/tsa_model.py:162: ValueWarning: No frequency information was provided, so inferred frequency MS will be used.\n",
      "  % freq, ValueWarning)\n"
     ]
    }
   ],
   "source": [
    "model = ARIMA(unemployment.unemp_rate, order=(1, 0, 0))\n",
    "model_fit = model.fit()\n",
    "print(model_fit.summary())"
   ]
  },
  {
   "cell_type": "markdown",
   "metadata": {},
   "source": [
    "#### Conclusion\n",
    "* Constant is 6.6156\n",
    "* AR(1) coefficient is 0.9988 (p < 0.05), suggesting that each day is approximately equal to the previous day's value\n",
    "* Log likelihood is 55.54, which is the best of the models tested here (closest to 0), suggesting that this model has a higher probability of correctly predicting unemployment rates than the other models\n",
    "* AIC is -105.079 (0.0% chance this model minimizes information loss compared to ARIMA(0, 1, 2))"
   ]
  },
  {
   "cell_type": "markdown",
   "metadata": {},
   "source": [
    "### ARIMA(0, 1, 0)"
   ]
  },
  {
   "cell_type": "code",
   "execution_count": 12,
   "metadata": {
    "ExecuteTime": {
     "end_time": "2020-03-22T02:05:31.285445Z",
     "start_time": "2020-03-22T02:05:31.196869Z"
    },
    "scrolled": false
   },
   "outputs": [
    {
     "name": "stderr",
     "output_type": "stream",
     "text": [
      "/opt/anaconda3/lib/python3.7/site-packages/statsmodels/tsa/base/tsa_model.py:162: ValueWarning: No frequency information was provided, so inferred frequency MS will be used.\n",
      "  % freq, ValueWarning)\n",
      "/opt/anaconda3/lib/python3.7/site-packages/statsmodels/tsa/base/tsa_model.py:162: ValueWarning: No frequency information was provided, so inferred frequency MS will be used.\n",
      "  % freq, ValueWarning)\n"
     ]
    },
    {
     "name": "stdout",
     "output_type": "stream",
     "text": [
      "                             ARIMA Model Results                              \n",
      "==============================================================================\n",
      "Dep. Variable:           D.unemp_rate   No. Observations:                  120\n",
      "Model:                 ARIMA(0, 1, 0)   Log Likelihood                  65.987\n",
      "Method:                           css   S.D. of innovations              0.140\n",
      "Date:                Sat, 21 Mar 2020   AIC                           -127.974\n",
      "Time:                        22:05:31   BIC                           -122.399\n",
      "Sample:                    03-01-2010   HQIC                          -125.710\n",
      "                         - 02-01-2020                                         \n",
      "==============================================================================\n",
      "                 coef    std err          z      P>|z|      [0.025      0.975]\n",
      "------------------------------------------------------------------------------\n",
      "const         -0.0525      0.013     -4.119      0.000      -0.077      -0.028\n",
      "==============================================================================\n"
     ]
    }
   ],
   "source": [
    "model = ARIMA(unemployment.unemp_rate, order=(0, 1, 0))\n",
    "model_fit = model.fit()\n",
    "print(model_fit.summary())"
   ]
  },
  {
   "cell_type": "markdown",
   "metadata": {},
   "source": [
    "#### Conclusion\n",
    "* Constant is -0.0525\n",
    "* Log likelihood is 65.987\n",
    "* AIC is -127.974 (0.1% chance this model minimizes information loss compared to ARIMA(0, 1, 2))"
   ]
  },
  {
   "cell_type": "markdown",
   "metadata": {},
   "source": [
    "### ARIMA(0, 0, 1)"
   ]
  },
  {
   "cell_type": "code",
   "execution_count": 13,
   "metadata": {
    "ExecuteTime": {
     "end_time": "2020-03-22T02:05:31.445765Z",
     "start_time": "2020-03-22T02:05:31.291373Z"
    },
    "scrolled": false
   },
   "outputs": [
    {
     "name": "stderr",
     "output_type": "stream",
     "text": [
      "/opt/anaconda3/lib/python3.7/site-packages/statsmodels/tsa/base/tsa_model.py:162: ValueWarning: No frequency information was provided, so inferred frequency MS will be used.\n",
      "  % freq, ValueWarning)\n"
     ]
    },
    {
     "name": "stdout",
     "output_type": "stream",
     "text": [
      "                              ARMA Model Results                              \n",
      "==============================================================================\n",
      "Dep. Variable:             unemp_rate   No. Observations:                  121\n",
      "Model:                     ARMA(0, 1)   Log Likelihood                -181.920\n",
      "Method:                       css-mle   S.D. of innovations              1.067\n",
      "Date:                Sat, 21 Mar 2020   AIC                            369.841\n",
      "Time:                        22:05:31   BIC                            378.228\n",
      "Sample:                    02-01-2010   HQIC                           373.247\n",
      "                         - 02-01-2020                                         \n",
      "====================================================================================\n",
      "                       coef    std err          z      P>|z|      [0.025      0.975]\n",
      "------------------------------------------------------------------------------------\n",
      "const                6.1492      0.193     31.833      0.000       5.771       6.528\n",
      "ma.L1.unemp_rate     0.9999      0.032     31.040      0.000       0.937       1.063\n",
      "                                    Roots                                    \n",
      "=============================================================================\n",
      "                  Real          Imaginary           Modulus         Frequency\n",
      "-----------------------------------------------------------------------------\n",
      "MA.1           -1.0001           +0.0000j            1.0001            0.5000\n",
      "-----------------------------------------------------------------------------\n"
     ]
    }
   ],
   "source": [
    "model = ARIMA(unemployment.unemp_rate, order=(0, 0, 1))\n",
    "model_fit = model.fit()\n",
    "print(model_fit.summary())"
   ]
  },
  {
   "cell_type": "markdown",
   "metadata": {},
   "source": [
    "#### Conclusion\n",
    "* Constant is 6.1492\n",
    "* MA(1) coefficient is 0.9999 (p < 0.05)\n",
    "* Log likelihood is -181.92, which is the worst of the models tested here (farthest from 0), suggesting that this model has a lower probability of correctly predicting unemployment rates than the other models\n",
    "* AIC is 369.841, which is the worst of the models tested here (largest value) (0.0% chance this model minimizes information loss compared to ARIMA(0, 1, 2))"
   ]
  },
  {
   "cell_type": "markdown",
   "metadata": {},
   "source": [
    "### ARIMA(1, 1, 0)"
   ]
  },
  {
   "cell_type": "code",
   "execution_count": 14,
   "metadata": {
    "ExecuteTime": {
     "end_time": "2020-03-22T02:05:31.574930Z",
     "start_time": "2020-03-22T02:05:31.459209Z"
    },
    "scrolled": false
   },
   "outputs": [
    {
     "name": "stderr",
     "output_type": "stream",
     "text": [
      "/opt/anaconda3/lib/python3.7/site-packages/statsmodels/tsa/base/tsa_model.py:162: ValueWarning: No frequency information was provided, so inferred frequency MS will be used.\n",
      "  % freq, ValueWarning)\n",
      "/opt/anaconda3/lib/python3.7/site-packages/statsmodels/tsa/base/tsa_model.py:162: ValueWarning: No frequency information was provided, so inferred frequency MS will be used.\n",
      "  % freq, ValueWarning)\n"
     ]
    },
    {
     "name": "stdout",
     "output_type": "stream",
     "text": [
      "                             ARIMA Model Results                              \n",
      "==============================================================================\n",
      "Dep. Variable:           D.unemp_rate   No. Observations:                  120\n",
      "Model:                 ARIMA(1, 1, 0)   Log Likelihood                  68.959\n",
      "Method:                       css-mle   S.D. of innovations              0.136\n",
      "Date:                Sat, 21 Mar 2020   AIC                           -131.918\n",
      "Time:                        22:05:31   BIC                           -123.555\n",
      "Sample:                    03-01-2010   HQIC                          -128.522\n",
      "                         - 02-01-2020                                         \n",
      "======================================================================================\n",
      "                         coef    std err          z      P>|z|      [0.025      0.975]\n",
      "--------------------------------------------------------------------------------------\n",
      "const                 -0.0527      0.010     -5.160      0.000      -0.073      -0.033\n",
      "ar.L1.D.unemp_rate    -0.2201      0.089     -2.470      0.014      -0.395      -0.045\n",
      "                                    Roots                                    \n",
      "=============================================================================\n",
      "                  Real          Imaginary           Modulus         Frequency\n",
      "-----------------------------------------------------------------------------\n",
      "AR.1           -4.5435           +0.0000j            4.5435            0.5000\n",
      "-----------------------------------------------------------------------------\n"
     ]
    }
   ],
   "source": [
    "model = ARIMA(unemployment.unemp_rate, order=(1, 1, 0))\n",
    "model_fit = model.fit()\n",
    "print(model_fit.summary())"
   ]
  },
  {
   "cell_type": "markdown",
   "metadata": {},
   "source": [
    "#### Conclusion\n",
    "* Constant is -0.0527\n",
    "* AR(1) coefficient is -0.2201 (p < 0.05)\n",
    "* Log likelihood is 68.959\n",
    "* AIC is -131.918 (20.9% chance this model minimizes information loss compared to ARIMA(0, 1, 2))"
   ]
  },
  {
   "cell_type": "markdown",
   "metadata": {},
   "source": [
    "### ARIMA(1, 1, 1)"
   ]
  },
  {
   "cell_type": "code",
   "execution_count": 15,
   "metadata": {
    "ExecuteTime": {
     "end_time": "2020-03-22T02:05:31.759579Z",
     "start_time": "2020-03-22T02:05:31.584493Z"
    },
    "scrolled": false
   },
   "outputs": [
    {
     "name": "stderr",
     "output_type": "stream",
     "text": [
      "/opt/anaconda3/lib/python3.7/site-packages/statsmodels/tsa/base/tsa_model.py:162: ValueWarning: No frequency information was provided, so inferred frequency MS will be used.\n",
      "  % freq, ValueWarning)\n",
      "/opt/anaconda3/lib/python3.7/site-packages/statsmodels/tsa/base/tsa_model.py:162: ValueWarning: No frequency information was provided, so inferred frequency MS will be used.\n",
      "  % freq, ValueWarning)\n"
     ]
    },
    {
     "name": "stdout",
     "output_type": "stream",
     "text": [
      "                             ARIMA Model Results                              \n",
      "==============================================================================\n",
      "Dep. Variable:           D.unemp_rate   No. Observations:                  120\n",
      "Model:                 ARIMA(1, 1, 1)   Log Likelihood                  71.514\n",
      "Method:                       css-mle   S.D. of innovations              0.133\n",
      "Date:                Sat, 21 Mar 2020   AIC                           -135.028\n",
      "Time:                        22:05:31   BIC                           -123.878\n",
      "Sample:                    03-01-2010   HQIC                          -130.500\n",
      "                         - 02-01-2020                                         \n",
      "======================================================================================\n",
      "                         coef    std err          z      P>|z|      [0.025      0.975]\n",
      "--------------------------------------------------------------------------------------\n",
      "const                 -0.0530      0.007     -7.512      0.000      -0.067      -0.039\n",
      "ar.L1.D.unemp_rate     0.3026      0.173      1.748      0.081      -0.037       0.642\n",
      "ma.L1.D.unemp_rate    -0.5988      0.135     -4.432      0.000      -0.864      -0.334\n",
      "                                    Roots                                    \n",
      "=============================================================================\n",
      "                  Real          Imaginary           Modulus         Frequency\n",
      "-----------------------------------------------------------------------------\n",
      "AR.1            3.3043           +0.0000j            3.3043            0.0000\n",
      "MA.1            1.6700           +0.0000j            1.6700            0.0000\n",
      "-----------------------------------------------------------------------------\n"
     ]
    }
   ],
   "source": [
    "model = ARIMA(unemployment.unemp_rate, order=(1, 1, 1))\n",
    "model_fit = model.fit()\n",
    "print(model_fit.summary())"
   ]
  },
  {
   "cell_type": "markdown",
   "metadata": {},
   "source": [
    "#### Conclusion\n",
    "* Constant is -0.0530\n",
    "* AR(1) coefficient is 0.3026 (p > 0.81), which suggests that this term does not have a significant effect on our outcome and is likely unnecessary\n",
    "* MA(1) coefficient is -0.5988 (p < 0.05)\n",
    "* Log likelihood is 71.514\n",
    "* AIC is -135.028 (98.9% chance this model minimizes information loss compared to ARIMA(0, 1, 2))"
   ]
  },
  {
   "cell_type": "markdown",
   "metadata": {},
   "source": [
    "### Auto ARIMA Using pmdarima"
   ]
  },
  {
   "cell_type": "code",
   "execution_count": 39,
   "metadata": {
    "ExecuteTime": {
     "end_time": "2020-03-22T02:15:56.672432Z",
     "start_time": "2020-03-22T02:15:55.699574Z"
    },
    "scrolled": true
   },
   "outputs": [
    {
     "name": "stdout",
     "output_type": "stream",
     "text": [
      "Performing stepwise search to minimize aic\n",
      "Fit ARIMA: (1, 1, 1)x(0, 0, 0, 0) (constant=True); AIC=-135.028, BIC=-123.878, Time=0.122 seconds\n",
      "Fit ARIMA: (0, 1, 0)x(0, 0, 0, 0) (constant=True); AIC=-127.974, BIC=-122.399, Time=0.021 seconds\n",
      "Fit ARIMA: (1, 1, 0)x(0, 0, 0, 0) (constant=True); AIC=-131.918, BIC=-123.555, Time=0.028 seconds\n",
      "Fit ARIMA: (0, 1, 1)x(0, 0, 0, 0) (constant=True); AIC=-134.651, BIC=-126.288, Time=0.038 seconds\n",
      "Fit ARIMA: (0, 1, 0)x(0, 0, 0, 0) (constant=False); AIC=-114.104, BIC=-111.317, Time=0.015 seconds\n",
      "Fit ARIMA: (2, 1, 1)x(0, 0, 0, 0) (constant=True); AIC=-133.404, BIC=-119.466, Time=0.149 seconds\n",
      "Fit ARIMA: (1, 1, 2)x(0, 0, 0, 0) (constant=True); AIC=-133.223, BIC=-119.286, Time=0.150 seconds\n",
      "Fit ARIMA: (0, 1, 2)x(0, 0, 0, 0) (constant=True); AIC=-135.051, BIC=-123.901, Time=0.059 seconds\n",
      "Fit ARIMA: (0, 1, 3)x(0, 0, 0, 0) (constant=True); AIC=-133.587, BIC=-119.650, Time=0.115 seconds\n",
      "Fit ARIMA: (1, 1, 3)x(0, 0, 0, 0) (constant=True); AIC=-131.850, BIC=-115.125, Time=0.252 seconds\n",
      "Total fit time: 0.955 seconds\n"
     ]
    },
    {
     "data": {
      "text/html": [
       "<table class=\"simpletable\">\n",
       "<caption>SARIMAX Results</caption>\n",
       "<tr>\n",
       "  <th>Dep. Variable:</th>           <td>y</td>        <th>  No. Observations:  </th>    <td>121</td>  \n",
       "</tr>\n",
       "<tr>\n",
       "  <th>Model:</th>           <td>SARIMAX(0, 1, 2)</td> <th>  Log Likelihood     </th>  <td>71.526</td> \n",
       "</tr>\n",
       "<tr>\n",
       "  <th>Date:</th>            <td>Sat, 21 Mar 2020</td> <th>  AIC                </th> <td>-135.051</td>\n",
       "</tr>\n",
       "<tr>\n",
       "  <th>Time:</th>                <td>22:15:56</td>     <th>  BIC                </th> <td>-123.901</td>\n",
       "</tr>\n",
       "<tr>\n",
       "  <th>Sample:</th>                  <td>0</td>        <th>  HQIC               </th> <td>-130.523</td>\n",
       "</tr>\n",
       "<tr>\n",
       "  <th></th>                      <td> - 121</td>      <th>                     </th>     <td> </td>   \n",
       "</tr>\n",
       "<tr>\n",
       "  <th>Covariance Type:</th>        <td>opg</td>       <th>                     </th>     <td> </td>   \n",
       "</tr>\n",
       "</table>\n",
       "<table class=\"simpletable\">\n",
       "<tr>\n",
       "      <td></td>         <th>coef</th>     <th>std err</th>      <th>z</th>      <th>P>|z|</th>  <th>[0.025</th>    <th>0.975]</th>  \n",
       "</tr>\n",
       "<tr>\n",
       "  <th>intercept</th> <td>   -0.0531</td> <td>    0.007</td> <td>   -7.369</td> <td> 0.000</td> <td>   -0.067</td> <td>   -0.039</td>\n",
       "</tr>\n",
       "<tr>\n",
       "  <th>ma.L1</th>     <td>   -0.2966</td> <td>    0.080</td> <td>   -3.702</td> <td> 0.000</td> <td>   -0.454</td> <td>   -0.140</td>\n",
       "</tr>\n",
       "<tr>\n",
       "  <th>ma.L2</th>     <td>   -0.1246</td> <td>    0.093</td> <td>   -1.345</td> <td> 0.179</td> <td>   -0.306</td> <td>    0.057</td>\n",
       "</tr>\n",
       "<tr>\n",
       "  <th>sigma2</th>    <td>    0.0178</td> <td>    0.002</td> <td>    8.822</td> <td> 0.000</td> <td>    0.014</td> <td>    0.022</td>\n",
       "</tr>\n",
       "</table>\n",
       "<table class=\"simpletable\">\n",
       "<tr>\n",
       "  <th>Ljung-Box (Q):</th>          <td>41.95</td> <th>  Jarque-Bera (JB):  </th> <td>2.19</td>\n",
       "</tr>\n",
       "<tr>\n",
       "  <th>Prob(Q):</th>                <td>0.39</td>  <th>  Prob(JB):          </th> <td>0.33</td>\n",
       "</tr>\n",
       "<tr>\n",
       "  <th>Heteroskedasticity (H):</th> <td>0.52</td>  <th>  Skew:              </th> <td>0.01</td>\n",
       "</tr>\n",
       "<tr>\n",
       "  <th>Prob(H) (two-sided):</th>    <td>0.04</td>  <th>  Kurtosis:          </th> <td>3.66</td>\n",
       "</tr>\n",
       "</table><br/><br/>Warnings:<br/>[1] Covariance matrix calculated using the outer product of gradients (complex-step)."
      ],
      "text/plain": [
       "<class 'statsmodels.iolib.summary.Summary'>\n",
       "\"\"\"\n",
       "                               SARIMAX Results                                \n",
       "==============================================================================\n",
       "Dep. Variable:                      y   No. Observations:                  121\n",
       "Model:               SARIMAX(0, 1, 2)   Log Likelihood                  71.526\n",
       "Date:                Sat, 21 Mar 2020   AIC                           -135.051\n",
       "Time:                        22:15:56   BIC                           -123.901\n",
       "Sample:                             0   HQIC                          -130.523\n",
       "                                - 121                                         \n",
       "Covariance Type:                  opg                                         \n",
       "==============================================================================\n",
       "                 coef    std err          z      P>|z|      [0.025      0.975]\n",
       "------------------------------------------------------------------------------\n",
       "intercept     -0.0531      0.007     -7.369      0.000      -0.067      -0.039\n",
       "ma.L1         -0.2966      0.080     -3.702      0.000      -0.454      -0.140\n",
       "ma.L2         -0.1246      0.093     -1.345      0.179      -0.306       0.057\n",
       "sigma2         0.0178      0.002      8.822      0.000       0.014       0.022\n",
       "===================================================================================\n",
       "Ljung-Box (Q):                       41.95   Jarque-Bera (JB):                 2.19\n",
       "Prob(Q):                              0.39   Prob(JB):                         0.33\n",
       "Heteroskedasticity (H):               0.52   Skew:                             0.01\n",
       "Prob(H) (two-sided):                  0.04   Kurtosis:                         3.66\n",
       "===================================================================================\n",
       "\n",
       "Warnings:\n",
       "[1] Covariance matrix calculated using the outer product of gradients (complex-step).\n",
       "\"\"\""
      ]
     },
     "execution_count": 39,
     "metadata": {},
     "output_type": "execute_result"
    }
   ],
   "source": [
    "stepwise_fit = pm.auto_arima(unemployment.unemp_rate,\n",
    "                             start_p=1, max_p=3,\n",
    "                             d=1,\n",
    "                             start_q=1, max_q=3,\n",
    "                             trace=True, # show individual results\n",
    "                             seasonal=False, # don't want to correct for seasonality\n",
    "                             error_action='ignore',  # don't want to know if an order does not work\n",
    "                             suppress_warnings=True,  # don't want convergence warnings\n",
    "                             stepwise=True)  # set to stepwise\n",
    "\n",
    "stepwise_fit.summary()"
   ]
  },
  {
   "cell_type": "markdown",
   "metadata": {},
   "source": [
    "#### Conclusion\n",
    "* Constant is -0.0531\n",
    "* MA(1) coefficient is -0.2966 (p < 0.05)\n",
    "* MA(2) coefficient is -0.1246 (p > 0.05), which suggests that this term does not have a significant effect on our outcome and is likely unnecessary\n",
    "* Log likelihood is 71.526\n",
    "* AIC is -135.051, which is the best of the models tested here (smallest value)"
   ]
  },
  {
   "cell_type": "markdown",
   "metadata": {},
   "source": [
    "## Overall Conclusion"
   ]
  },
  {
   "cell_type": "markdown",
   "metadata": {},
   "source": [
    "Based on the above analyses, ARIMA(0, 1, 1), ARIMA(1, 1, 1), and ARIMA(0, 1, 2) are comparable in their abilities to model the unemployment data. They all take into account the need for the data to be differenced once to obtain stationariy, and all have comparably good log likelihoods and AIC values. Moving forward, I would select ARIMA(0, 1, 1) because it also fits with the optimal p, I, and q values extracted from the ACF and PACF plots."
   ]
  }
 ],
 "metadata": {
  "kernelspec": {
   "display_name": "Python 3",
   "language": "python",
   "name": "python3"
  },
  "language_info": {
   "codemirror_mode": {
    "name": "ipython",
    "version": 3
   },
   "file_extension": ".py",
   "mimetype": "text/x-python",
   "name": "python",
   "nbconvert_exporter": "python",
   "pygments_lexer": "ipython3",
   "version": "3.7.4"
  },
  "toc": {
   "base_numbering": 1,
   "nav_menu": {},
   "number_sections": true,
   "sideBar": true,
   "skip_h1_title": false,
   "title_cell": "Table of Contents",
   "title_sidebar": "Contents",
   "toc_cell": false,
   "toc_position": {},
   "toc_section_display": true,
   "toc_window_display": false
  },
  "varInspector": {
   "cols": {
    "lenName": 16,
    "lenType": 16,
    "lenVar": 40
   },
   "kernels_config": {
    "python": {
     "delete_cmd_postfix": "",
     "delete_cmd_prefix": "del ",
     "library": "var_list.py",
     "varRefreshCmd": "print(var_dic_list())"
    },
    "r": {
     "delete_cmd_postfix": ") ",
     "delete_cmd_prefix": "rm(",
     "library": "var_list.r",
     "varRefreshCmd": "cat(var_dic_list()) "
    }
   },
   "types_to_exclude": [
    "module",
    "function",
    "builtin_function_or_method",
    "instance",
    "_Feature"
   ],
   "window_display": false
  }
 },
 "nbformat": 4,
 "nbformat_minor": 2
}
